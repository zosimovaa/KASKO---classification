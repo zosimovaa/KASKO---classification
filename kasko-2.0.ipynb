{
 "cells": [
  {
   "cell_type": "markdown",
   "metadata": {},
   "source": [
    "Нужно построить модель отклика на предложение покупки полиса КАСКО – обучить логистическую регрессию, которая будет возвращать вероятность покупки.\n",
    "\n",
    "Качество решения будет оцениваться по величине Gini (внимательнее к данным, имеет смысл их предварительно изучить) и общей аккуратности оформления. Модель должна быть валидирована и результаты валидации должны быть показаны в решении. Почему именно логистическая регрессия – 1) это наиболее простой алгоритм, 2) он позволит оценить логику решения, а не только технический навык."
   ]
  },
  {
   "cell_type": "markdown",
   "metadata": {},
   "source": [
    "# 1. Импорты и полезные функции"
   ]
  },
  {
   "cell_type": "code",
   "execution_count": 1,
   "metadata": {
    "_cell_guid": "79c7e3d0-c299-4dcb-8224-4455121ee9b0",
    "_uuid": "d629ff2d2480ee46fbb7e2d37f6b5fab8052498a"
   },
   "outputs": [],
   "source": [
    "import numpy as np\n",
    "import pandas as pd\n",
    "import warnings\n",
    "\n",
    "#Визуализация\n",
    "import matplotlib.pyplot as plt\n",
    "import seaborn as sns\n",
    "\n",
    "# Для оценки взаимодействия предикторов\n",
    "from sklearn_gbmi import *\n",
    "from sklearn.ensemble import GradientBoostingClassifier\n",
    "\n",
    "from sklearn.preprocessing import PolynomialFeatures\n",
    "from sklearn.preprocessing import RobustScaler\n",
    "from sklearn.model_selection import train_test_split\n",
    "from sklearn.model_selection import cross_val_predict\n",
    "from sklearn.linear_model import LogisticRegression\n",
    "\n",
    "from sklearn.metrics import roc_curve, auc, roc_auc_score\n",
    "\n",
    "#Оптимизация модели\n",
    "from hyperopt import fmin, tpe, hp, STATUS_OK, Trials, space_eval\n",
    "\n",
    "#Options\n",
    "random_state = 999\n",
    "pd.options.display.max_rows = 999\n",
    "pd.options.display.max_columns = 999\n",
    "\n",
    "warnings.simplefilter(action='ignore', category=FutureWarning)\n",
    "warnings.filterwarnings(\"ignore\")"
   ]
  },
  {
   "cell_type": "code",
   "execution_count": 2,
   "metadata": {},
   "outputs": [],
   "source": [
    "#Расчет показателя Gini  и AUC\n",
    "def model_score(y_test, y_pred_prob, plot=True):\n",
    "    gini = 2*roc_auc_score(y_test, y_pred_prob[:,1:])-1\n",
    "    auc = roc_auc_score(y_test, y_pred_prob[:,1:])\n",
    "    \n",
    "    if plot:\n",
    "        fig, ax = plt.subplots(figsize=(6,4))\n",
    "        fpr, tpr, _ = roc_curve(y_test, y_pred_prob[:,1:])\n",
    "        ax.plot([0, 1], [0, 1], color='grey', linestyle='--')\n",
    "        ax.plot(fpr,tpr)\n",
    "\n",
    "        ax.text(0.75, 0.04, \"Gini: {0:.3} \\nAUC: {1:.3}\".format(gini, auc), fontsize=11)\n",
    "        ax.set_xlim([0.0, 1.0])\n",
    "        ax.set_ylim([0.0, 1.005])\n",
    "        ax.set_xlabel('False Positive Rate')\n",
    "        ax.set_ylabel('True Positive Rate')\n",
    "        ax.set_title(\"ROC Curve\")\n",
    "    return gini, auc"
   ]
  },
  {
   "cell_type": "markdown",
   "metadata": {},
   "source": [
    "Пара слов о том, что такое gini\n",
    "\n",
    "<img src=\"https://alexanderdyakonov.files.wordpress.com/2015/12/gini1.png\" align=\"left\"/>\n",
    "\n",
    "\n",
    "https://dyakonov.org/2015/12/15/%D0%B7%D0%BD%D0%B0%D0%BA%D0%BE%D0%BC%D1%8C%D1%82%D0%B5%D1%81%D1%8C-%D0%B4%D0%B6%D0%B8%D0%BD%D0%B8/"
   ]
  },
  {
   "cell_type": "code",
   "execution_count": 3,
   "metadata": {},
   "outputs": [],
   "source": [
    "def optimize_hyperparam(Model, init_params, space, X_, y_, n_eval=100):\n",
    "    print(Model.__name__)\n",
    "\n",
    "    def objective(space):        \n",
    "        model = Model(**init_params, **space)    \n",
    "        y_pred = cross_val_predict(model, X_, y_, cv=5, method=\"predict_proba\")\n",
    "        gini, auc = model_score(y_, y_pred, plot=False)\n",
    "        return {'loss': -gini, 'status': STATUS_OK}\n",
    "\n",
    "    trials = Trials()\n",
    "    best = fmin(fn=objective, \n",
    "                space=space, \n",
    "                trials=trials, \n",
    "                algo=tpe.suggest, \n",
    "                max_evals=n_eval, \n",
    "                rstate=np.random.RandomState(random_state),\n",
    "                verbose=1)\n",
    "\n",
    "    best_params = space_eval(space, best)\n",
    "    print(\"Best params: {}\".format(best_params))\n",
    "    model = Model(**init_params, **best_params).fit(X_, y_)\n",
    "    return model\n",
    "    \n",
    "    \n",
    "#lr = optimize_hyperparam(LogisticRegression, lr_init_params, lr_space, X_train, y_train, n_eval=10)"
   ]
  },
  {
   "cell_type": "markdown",
   "metadata": {},
   "source": [
    "# 2. Чтение данных"
   ]
  },
  {
   "cell_type": "code",
   "execution_count": 4,
   "metadata": {},
   "outputs": [
    {
     "data": {
      "text/html": [
       "<div>\n",
       "<style scoped>\n",
       "    .dataframe tbody tr th:only-of-type {\n",
       "        vertical-align: middle;\n",
       "    }\n",
       "\n",
       "    .dataframe tbody tr th {\n",
       "        vertical-align: top;\n",
       "    }\n",
       "\n",
       "    .dataframe thead th {\n",
       "        text-align: right;\n",
       "    }\n",
       "</style>\n",
       "<table border=\"1\" class=\"dataframe\">\n",
       "  <thead>\n",
       "    <tr style=\"text-align: right;\">\n",
       "      <th></th>\n",
       "      <th>Unnamed: 0</th>\n",
       "      <th>Gender</th>\n",
       "      <th>Age</th>\n",
       "      <th>Income</th>\n",
       "      <th>KASKO_flg</th>\n",
       "    </tr>\n",
       "  </thead>\n",
       "  <tbody>\n",
       "    <tr>\n",
       "      <th>0</th>\n",
       "      <td>NaN</td>\n",
       "      <td>Female</td>\n",
       "      <td>49</td>\n",
       "      <td>30000</td>\n",
       "      <td>0</td>\n",
       "    </tr>\n",
       "    <tr>\n",
       "      <th>1</th>\n",
       "      <td>NaN</td>\n",
       "      <td>Male</td>\n",
       "      <td>38</td>\n",
       "      <td>135000</td>\n",
       "      <td>0</td>\n",
       "    </tr>\n",
       "    <tr>\n",
       "      <th>2</th>\n",
       "      <td>NaN</td>\n",
       "      <td>Male</td>\n",
       "      <td>41</td>\n",
       "      <td>70000</td>\n",
       "      <td>0</td>\n",
       "    </tr>\n",
       "  </tbody>\n",
       "</table>\n",
       "</div>"
      ],
      "text/plain": [
       "   Unnamed: 0  Gender  Age  Income  KASKO_flg\n",
       "0         NaN  Female   49   30000          0\n",
       "1         NaN    Male   38  135000          0\n",
       "2         NaN    Male   41   70000          0"
      ]
     },
     "metadata": {},
     "output_type": "display_data"
    },
    {
     "name": "stdout",
     "output_type": "stream",
     "text": [
      "<class 'pandas.core.frame.DataFrame'>\n",
      "RangeIndex: 40000 entries, 0 to 39999\n",
      "Data columns (total 5 columns):\n",
      " #   Column      Non-Null Count  Dtype  \n",
      "---  ------      --------------  -----  \n",
      " 0   Unnamed: 0  0 non-null      float64\n",
      " 1   Gender      40000 non-null  object \n",
      " 2   Age         40000 non-null  int64  \n",
      " 3   Income      40000 non-null  int64  \n",
      " 4   KASKO_flg   40000 non-null  int64  \n",
      "dtypes: float64(1), int64(3), object(1)\n",
      "memory usage: 1.5+ MB\n"
     ]
    },
    {
     "data": {
      "text/plain": [
       "None"
      ]
     },
     "metadata": {},
     "output_type": "display_data"
    }
   ],
   "source": [
    "data = pd.read_excel(\"Test case - Regression.xlsx\", header=1)\n",
    "display(data.head(3))\n",
    "display(data.info())"
   ]
  },
  {
   "cell_type": "code",
   "execution_count": 5,
   "metadata": {},
   "outputs": [
    {
     "data": {
      "text/html": [
       "<div>\n",
       "<style scoped>\n",
       "    .dataframe tbody tr th:only-of-type {\n",
       "        vertical-align: middle;\n",
       "    }\n",
       "\n",
       "    .dataframe tbody tr th {\n",
       "        vertical-align: top;\n",
       "    }\n",
       "\n",
       "    .dataframe thead th {\n",
       "        text-align: right;\n",
       "    }\n",
       "</style>\n",
       "<table border=\"1\" class=\"dataframe\">\n",
       "  <thead>\n",
       "    <tr style=\"text-align: right;\">\n",
       "      <th></th>\n",
       "      <th>Gender</th>\n",
       "      <th>Age</th>\n",
       "      <th>Income</th>\n",
       "      <th>KASKO_flg</th>\n",
       "    </tr>\n",
       "  </thead>\n",
       "  <tbody>\n",
       "    <tr>\n",
       "      <th>0</th>\n",
       "      <td>0</td>\n",
       "      <td>49</td>\n",
       "      <td>30000</td>\n",
       "      <td>0</td>\n",
       "    </tr>\n",
       "    <tr>\n",
       "      <th>1</th>\n",
       "      <td>1</td>\n",
       "      <td>38</td>\n",
       "      <td>135000</td>\n",
       "      <td>0</td>\n",
       "    </tr>\n",
       "    <tr>\n",
       "      <th>2</th>\n",
       "      <td>1</td>\n",
       "      <td>41</td>\n",
       "      <td>70000</td>\n",
       "      <td>0</td>\n",
       "    </tr>\n",
       "  </tbody>\n",
       "</table>\n",
       "</div>"
      ],
      "text/plain": [
       "   Gender  Age  Income  KASKO_flg\n",
       "0       0   49   30000          0\n",
       "1       1   38  135000          0\n",
       "2       1   41   70000          0"
      ]
     },
     "metadata": {},
     "output_type": "display_data"
    }
   ],
   "source": [
    "#Удалим лишний столбец\n",
    "data.drop(\"Unnamed: 0\", axis=1, inplace=True)\n",
    "\n",
    "#Бинаризуем признак пола\n",
    "map_Sex = {'Male': 1, 'Female':0}\n",
    "data.replace({\"Gender\": map_Sex}, inplace=True)\n",
    "\n",
    "display(data.head(3))"
   ]
  },
  {
   "cell_type": "markdown",
   "metadata": {},
   "source": [
    "###  INFO\n",
    "\n",
    "- Датасет получен и проверен на наличие отсутствующих признаков\n",
    "- Удален ненужный столбец\n",
    "- Признак пола бинаризирован. \n",
    "\n"
   ]
  },
  {
   "cell_type": "markdown",
   "metadata": {},
   "source": [
    "# 3. Изучение данных"
   ]
  },
  {
   "cell_type": "code",
   "execution_count": 6,
   "metadata": {},
   "outputs": [
    {
     "data": {
      "text/html": [
       "<div>\n",
       "<style scoped>\n",
       "    .dataframe tbody tr th:only-of-type {\n",
       "        vertical-align: middle;\n",
       "    }\n",
       "\n",
       "    .dataframe tbody tr th {\n",
       "        vertical-align: top;\n",
       "    }\n",
       "\n",
       "    .dataframe thead th {\n",
       "        text-align: right;\n",
       "    }\n",
       "</style>\n",
       "<table border=\"1\" class=\"dataframe\">\n",
       "  <thead>\n",
       "    <tr style=\"text-align: right;\">\n",
       "      <th></th>\n",
       "      <th>Gender</th>\n",
       "      <th>Age</th>\n",
       "      <th>Income</th>\n",
       "      <th>KASKO_flg</th>\n",
       "    </tr>\n",
       "  </thead>\n",
       "  <tbody>\n",
       "    <tr>\n",
       "      <th>count</th>\n",
       "      <td>40000.000000</td>\n",
       "      <td>40000.000000</td>\n",
       "      <td>40000.000000</td>\n",
       "      <td>40000.000000</td>\n",
       "    </tr>\n",
       "    <tr>\n",
       "      <th>mean</th>\n",
       "      <td>0.506525</td>\n",
       "      <td>40.046050</td>\n",
       "      <td>109766.500000</td>\n",
       "      <td>0.324425</td>\n",
       "    </tr>\n",
       "    <tr>\n",
       "      <th>std</th>\n",
       "      <td>0.499964</td>\n",
       "      <td>8.933391</td>\n",
       "      <td>51968.813212</td>\n",
       "      <td>0.468165</td>\n",
       "    </tr>\n",
       "    <tr>\n",
       "      <th>min</th>\n",
       "      <td>0.000000</td>\n",
       "      <td>25.000000</td>\n",
       "      <td>20000.000000</td>\n",
       "      <td>0.000000</td>\n",
       "    </tr>\n",
       "    <tr>\n",
       "      <th>25%</th>\n",
       "      <td>0.000000</td>\n",
       "      <td>32.000000</td>\n",
       "      <td>65000.000000</td>\n",
       "      <td>0.000000</td>\n",
       "    </tr>\n",
       "    <tr>\n",
       "      <th>50%</th>\n",
       "      <td>1.000000</td>\n",
       "      <td>40.000000</td>\n",
       "      <td>110000.000000</td>\n",
       "      <td>0.000000</td>\n",
       "    </tr>\n",
       "    <tr>\n",
       "      <th>75%</th>\n",
       "      <td>1.000000</td>\n",
       "      <td>48.000000</td>\n",
       "      <td>154000.000000</td>\n",
       "      <td>1.000000</td>\n",
       "    </tr>\n",
       "    <tr>\n",
       "      <th>max</th>\n",
       "      <td>1.000000</td>\n",
       "      <td>55.000000</td>\n",
       "      <td>200000.000000</td>\n",
       "      <td>1.000000</td>\n",
       "    </tr>\n",
       "  </tbody>\n",
       "</table>\n",
       "</div>"
      ],
      "text/plain": [
       "             Gender           Age         Income     KASKO_flg\n",
       "count  40000.000000  40000.000000   40000.000000  40000.000000\n",
       "mean       0.506525     40.046050  109766.500000      0.324425\n",
       "std        0.499964      8.933391   51968.813212      0.468165\n",
       "min        0.000000     25.000000   20000.000000      0.000000\n",
       "25%        0.000000     32.000000   65000.000000      0.000000\n",
       "50%        1.000000     40.000000  110000.000000      0.000000\n",
       "75%        1.000000     48.000000  154000.000000      1.000000\n",
       "max        1.000000     55.000000  200000.000000      1.000000"
      ]
     },
     "metadata": {},
     "output_type": "display_data"
    }
   ],
   "source": [
    "display(data.describe())"
   ]
  },
  {
   "cell_type": "code",
   "execution_count": 7,
   "metadata": {},
   "outputs": [
    {
     "data": {
      "image/png": "[encoded data removed]",
      "text/plain": [
       "<Figure size 360x288 with 2 Axes>"
      ]
     },
     "metadata": {
      "needs_background": "light"
     },
     "output_type": "display_data"
    }
   ],
   "source": [
    "#Оценим распределение мужчин и женщин\n",
    "fig, ax = plt.subplots(figsize=(5,4))\n",
    "ct = pd.crosstab(data[\"Gender\"], data[\"KASKO_flg\"])\n",
    "ax = sns.heatmap(ct, annot=True, fmt='g', cmap=\"PuBu\", ax=ax)"
   ]
  },
  {
   "cell_type": "code",
   "execution_count": 8,
   "metadata": {},
   "outputs": [
    {
     "data": {
      "image/png": "[encoded data removed]",
      "text/plain": [
       "<Figure size 1152x288 with 2 Axes>"
      ]
     },
     "metadata": {
      "needs_background": "light"
     },
     "output_type": "display_data"
    }
   ],
   "source": [
    "fig, ax = plt.subplots(figsize=(16,4), ncols=2)\n",
    "ax[0] = sns.histplot(data[\"Income\"], ax=ax[0])\n",
    "ax[1] = sns.histplot(data[\"Age\"], ax=ax[1], bins=31)"
   ]
  },
  {
   "cell_type": "markdown",
   "metadata": {},
   "source": [
    "###  INFO\n",
    "\n",
    "- В данных отсутствют экстремальные значения\n",
    "- Признаки Age и Income имеют равномерное распределение\n",
    "- Классы не сбалансированы\n"
   ]
  },
  {
   "cell_type": "markdown",
   "metadata": {},
   "source": [
    "# 4. Базовая модель"
   ]
  },
  {
   "cell_type": "code",
   "execution_count": 9,
   "metadata": {},
   "outputs": [],
   "source": [
    "X = data.drop([\"KASKO_flg\"], axis=1)\n",
    "y = data['KASKO_flg']\n",
    "X_train, X_test, y_train, y_test = train_test_split(X, y, test_size=0.33, random_state=random_state, shuffle=True)\n",
    "\n",
    "scaler = RobustScaler()\n",
    "X_train = pd.DataFrame(scaler.fit_transform(X_train), columns=X.columns)\n",
    "X_test = pd.DataFrame(scaler.transform(X_test), columns=X.columns)"
   ]
  },
  {
   "cell_type": "code",
   "execution_count": 10,
   "metadata": {},
   "outputs": [
    {
     "data": {
      "image/png": "[encoded data removed]",
      "text/plain": [
       "<Figure size 432x288 with 1 Axes>"
      ]
     },
     "metadata": {
      "needs_background": "light"
     },
     "output_type": "display_data"
    }
   ],
   "source": [
    "model_basic = LogisticRegression(random_state=random_state, class_weight=\"balanced\")\n",
    "model_basic = model_basic.fit(X_train, y_train)\n",
    "y_pred = model_basic.predict_proba(X_test)\n",
    "\n",
    "gini, auc = model_score(y_test, y_pred)"
   ]
  },
  {
   "cell_type": "code",
   "execution_count": 11,
   "metadata": {},
   "outputs": [
    {
     "data": {
      "image/png": "[encoded data removed]",
      "text/plain": [
       "<Figure size 720x216 with 1 Axes>"
      ]
     },
     "metadata": {
      "needs_background": "light"
     },
     "output_type": "display_data"
    }
   ],
   "source": [
    "scores = model_basic.coef_[0]\n",
    "fig, ax = plt.subplots(figsize=(10,3))\n",
    "ax = sns.barplot(x=scores, y=X.columns, ax=ax) "
   ]
  },
  {
   "cell_type": "markdown",
   "metadata": {},
   "source": [
    "###  INFO \n",
    "\n",
    "- Значение gini составило 0.212 на тестовом наборе данных при обучении модели на трех предикторах."
   ]
  },
  {
   "cell_type": "markdown",
   "metadata": {},
   "source": [
    "# 5. Модель на сгенерированных признаках"
   ]
  },
  {
   "cell_type": "markdown",
   "metadata": {},
   "source": [
    "Для поиска новых фичей применим 2 подхода - попробуем оценить предикторы более высокого порядка и посмотрим наличие влияния взаимодействующих предикторов.\n",
    "\n",
    "Для генерации фичей применим PolynomialFeatures из пакета sklearn.preprocessing."
   ]
  },
  {
   "cell_type": "markdown",
   "metadata": {},
   "source": [
    "## Feature interactions\n",
    "Предикторы с взаимодействием можно выявить несколькими способами\n",
    " - опираясь на априорные знания о предметной области\n",
    " - проверить взаимосвязь между значимыми предикторами\n",
    " - перебрать все возможные варианты и исключить малозначимые\n",
    " - рассчитать H-статистику Фридмана\n",
    "\n",
    "Т.к. количество фичей небольшое и размер выборки позволяет - можем попробовать все возможные варианты. Но так же рассчитаем H-статистику для сравнения.\n",
    "\n",
    "H-статистику рассчитаем при помощи метода h_all_pairs из пакета sklearn-gbmi. Значение H-статистики лежит в интервале от 0 до 1. Чем ближе значение к 1, тем сильнее эффект взаимодействия предикторов.\n",
    "\n",
    "**Links**:\n",
    "- https://blog.macuyiko.com/post/2019/discovering-interaction-effects-in-ensemble-models.html\n",
    "- https://pypi.org/project/sklearn-gbmi/\n",
    "\n"
   ]
  },
  {
   "cell_type": "code",
   "execution_count": 12,
   "metadata": {},
   "outputs": [
    {
     "data": {
      "text/plain": [
       "{('Gender', 'Age'): 0.8260674392691238,\n",
       " ('Gender', 'Income'): 0.08314175928852777,\n",
       " ('Age', 'Income'): 0.22708732887355076}"
      ]
     },
     "execution_count": 12,
     "metadata": {},
     "output_type": "execute_result"
    }
   ],
   "source": [
    "gbm = GradientBoostingClassifier(n_estimators=100, learning_rate=0.1, random_state=0).fit(X, y)\n",
    "h_all_pairs(gbm, X, [\"Gender\", \"Age\", \"Income\"])"
   ]
  },
  {
   "cell_type": "markdown",
   "metadata": {},
   "source": [
    "Судя по H-статистике, взаимосвязь наблюдается между предикторами Gender и Age.\n",
    "Попробуем проверить этот тезис на практике."
   ]
  },
  {
   "cell_type": "markdown",
   "metadata": {},
   "source": [
    "## Генерация фичей"
   ]
  },
  {
   "cell_type": "code",
   "execution_count": 13,
   "metadata": {},
   "outputs": [
    {
     "data": {
      "text/html": [
       "<div>\n",
       "<style scoped>\n",
       "    .dataframe tbody tr th:only-of-type {\n",
       "        vertical-align: middle;\n",
       "    }\n",
       "\n",
       "    .dataframe tbody tr th {\n",
       "        vertical-align: top;\n",
       "    }\n",
       "\n",
       "    .dataframe thead th {\n",
       "        text-align: right;\n",
       "    }\n",
       "</style>\n",
       "<table border=\"1\" class=\"dataframe\">\n",
       "  <thead>\n",
       "    <tr style=\"text-align: right;\">\n",
       "      <th></th>\n",
       "      <th>Gender</th>\n",
       "      <th>Age</th>\n",
       "      <th>Income</th>\n",
       "      <th>Gender^2</th>\n",
       "      <th>Gender Age</th>\n",
       "      <th>Gender Income</th>\n",
       "      <th>Age^2</th>\n",
       "      <th>Age Income</th>\n",
       "      <th>Income^2</th>\n",
       "    </tr>\n",
       "  </thead>\n",
       "  <tbody>\n",
       "    <tr>\n",
       "      <th>0</th>\n",
       "      <td>0.0</td>\n",
       "      <td>49.0</td>\n",
       "      <td>30000.0</td>\n",
       "      <td>0.0</td>\n",
       "      <td>0.0</td>\n",
       "      <td>0.0</td>\n",
       "      <td>2401.0</td>\n",
       "      <td>1470000.0</td>\n",
       "      <td>9.000000e+08</td>\n",
       "    </tr>\n",
       "    <tr>\n",
       "      <th>1</th>\n",
       "      <td>1.0</td>\n",
       "      <td>38.0</td>\n",
       "      <td>135000.0</td>\n",
       "      <td>1.0</td>\n",
       "      <td>38.0</td>\n",
       "      <td>135000.0</td>\n",
       "      <td>1444.0</td>\n",
       "      <td>5130000.0</td>\n",
       "      <td>1.822500e+10</td>\n",
       "    </tr>\n",
       "    <tr>\n",
       "      <th>2</th>\n",
       "      <td>1.0</td>\n",
       "      <td>41.0</td>\n",
       "      <td>70000.0</td>\n",
       "      <td>1.0</td>\n",
       "      <td>41.0</td>\n",
       "      <td>70000.0</td>\n",
       "      <td>1681.0</td>\n",
       "      <td>2870000.0</td>\n",
       "      <td>4.900000e+09</td>\n",
       "    </tr>\n",
       "  </tbody>\n",
       "</table>\n",
       "</div>"
      ],
      "text/plain": [
       "   Gender   Age    Income  Gender^2  Gender Age  Gender Income   Age^2  \\\n",
       "0     0.0  49.0   30000.0       0.0         0.0            0.0  2401.0   \n",
       "1     1.0  38.0  135000.0       1.0        38.0       135000.0  1444.0   \n",
       "2     1.0  41.0   70000.0       1.0        41.0        70000.0  1681.0   \n",
       "\n",
       "   Age Income      Income^2  \n",
       "0   1470000.0  9.000000e+08  \n",
       "1   5130000.0  1.822500e+10  \n",
       "2   2870000.0  4.900000e+09  "
      ]
     },
     "metadata": {},
     "output_type": "display_data"
    }
   ],
   "source": [
    "def rnm(x):\n",
    "    d = {\"x0\": \"Gender\", \"x1\": \"Age\", \"x2\": \"Income\"}\n",
    "    for k,v in d.items():\n",
    "        x = x.replace(k, v)\n",
    "    return x\n",
    "\n",
    "X = data.drop([\"KASKO_flg\"], axis=1)\n",
    "y = data['KASKO_flg']\n",
    "\n",
    "poly = PolynomialFeatures(2, interaction_only=False, include_bias=False)\n",
    "X_poly = poly.fit_transform(X)\n",
    "\n",
    "X_poly = pd.DataFrame(X_poly, columns=list(map(rnm, poly.get_feature_names())))\n",
    "\n",
    "display(X_poly.head(3))"
   ]
  },
  {
   "cell_type": "markdown",
   "metadata": {},
   "source": [
    "Признак Gender^2 является копией признакак Gender. Удалим его"
   ]
  },
  {
   "cell_type": "code",
   "execution_count": 14,
   "metadata": {},
   "outputs": [],
   "source": [
    "X_poly = X_poly.drop(columns=[\"Gender^2\"])"
   ]
  },
  {
   "cell_type": "markdown",
   "metadata": {},
   "source": [
    "## Модель"
   ]
  },
  {
   "cell_type": "code",
   "execution_count": 15,
   "metadata": {},
   "outputs": [
    {
     "name": "stdout",
     "output_type": "stream",
     "text": [
      "Index(['Gender', 'Age', 'Income', 'Gender Age', 'Gender Income', 'Age^2',\n",
      "       'Age Income', 'Income^2'],\n",
      "      dtype='object')\n"
     ]
    }
   ],
   "source": [
    "X_train, X_test, y_train, y_test = train_test_split(X_poly, y, test_size=0.33, random_state=random_state, shuffle=True)\n",
    "\n",
    "scaler = RobustScaler()\n",
    "X_train = pd.DataFrame(scaler.fit_transform(X_train), columns=X_poly.columns)\n",
    "X_test = pd.DataFrame(scaler.transform(X_test), columns=X_poly.columns)\n",
    "\n",
    "print(X_train.columns)"
   ]
  },
  {
   "cell_type": "code",
   "execution_count": 16,
   "metadata": {},
   "outputs": [
    {
     "name": "stdout",
     "output_type": "stream",
     "text": [
      "LogisticRegression\n",
      "100%|██████████| 10/10 [00:03<00:00,  2.85trial/s, best loss: -0.32253510478256375]\n",
      "Best params: {'C': 0.1989760427392051}\n"
     ]
    },
    {
     "data": {
      "image/png": "[encoded data removed]",
      "text/plain": [
       "<Figure size 432x288 with 1 Axes>"
      ]
     },
     "metadata": {
      "needs_background": "light"
     },
     "output_type": "display_data"
    }
   ],
   "source": [
    "lr_init_params = {\"class_weight\":\"balanced\", \n",
    "                  \"penalty\": 'l1',\n",
    "                  \"solver\": \"saga\",\n",
    "                  \"random_state\":random_state}\n",
    "\n",
    "lr_space = {\n",
    "    'C': hp.uniform('C', 0,5)    \n",
    "}\n",
    "\n",
    "model_optimized = optimize_hyperparam(LogisticRegression, lr_init_params, lr_space, X_train, y_train, n_eval=10)\n",
    "y_pred = model_optimized.predict_proba(X_test)\n",
    "gini, auc = model_score(y_test, y_pred)"
   ]
  },
  {
   "cell_type": "code",
   "execution_count": 17,
   "metadata": {},
   "outputs": [
    {
     "data": {
      "image/png": "[encoded data removed]",
      "text/plain": [
       "<Figure size 720x216 with 1 Axes>"
      ]
     },
     "metadata": {
      "needs_background": "light"
     },
     "output_type": "display_data"
    }
   ],
   "source": [
    "scores = model_optimized.coef_[0]\n",
    "fig, ax = plt.subplots(figsize=(10,3))\n",
    "ax = sns.barplot(x=scores, y=X_poly.columns, ax=ax) "
   ]
  },
  {
   "cell_type": "markdown",
   "metadata": {},
   "source": [
    "###  INFO \n",
    "\n",
    "- Значение gini удалось поднять до 0.317 на тестовом наборе данных\n",
    "- Комбинация \"Gender Age\" оказалась значимой, второй по весу после признака \"Gender\". Остальные взаимодействия предикторов не оказыват существенного влияния на результат предсказания. Этот вывод совпадает с результатом расчета H-статистики для выявления feature interaction. "
   ]
  }
 ],
 "metadata": {
  "kernelspec": {
   "display_name": "Python 3",
   "language": "python",
   "name": "python3"
  },
  "language_info": {
   "codemirror_mode": {
    "name": "ipython",
    "version": 3
   },
   "file_extension": ".py",
   "mimetype": "text/x-python",
   "name": "python",
   "nbconvert_exporter": "python",
   "pygments_lexer": "ipython3",
   "version": "3.8.5"
  }
 },
 "nbformat": 4,
 "nbformat_minor": 4
}
